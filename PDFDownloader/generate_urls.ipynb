{
 "cells": [
  {
   "cell_type": "code",
   "execution_count": 13,
   "id": "809bd177",
   "metadata": {},
   "outputs": [
    {
     "name": "stdout",
     "output_type": "stream",
     "text": [
      "Type: <class 'dict'>\n",
      "\n",
      "Tracks: [{'name': 'Ajax Downs', 'abrev': 'AJX'}, {'name': 'Belmont At the Big A', 'abrev': 'BAQ'}, {'name': 'Camarero Race Track', 'abrev': 'CMR'}, {'name': 'Century Mile', 'abrev': 'CTM'}, {'name': 'Hollywod Casino at Charles Town Races', 'abrev': 'CT'}, {'name': 'Delaware Park', 'abrev': 'DEL'}, {'name': 'Delta Downs', 'abrev': 'DED'}, {'name': 'Evangeline Downs', 'abrev': 'EVD'}, {'name': 'Finger Lakes', 'abrev': 'FL'}, {'name': 'Fort Erie', 'abrev': 'FE'}, {'name': 'Golden Gate Fields', 'abrev': 'GG'}, {'name': 'Great Meadow', 'abrev': 'GRM'}, {'name': 'Gulfstream Park', 'abrev': 'GP'}, {'name': 'Hastings Racecourse', 'abrev': 'HST'}, {'name': 'Hawthorne', 'abrev': 'HAW'}, {'name': 'Horseshoe Indianapolis', 'abrev': 'IND'}, {'name': 'Laurel Park', 'abrev': 'LRL'}, {'name': 'Lone Star Park', 'abrev': 'LS'}, {'name': 'Los Alamitos', 'abrev': 'LA'}, {'name': 'Mahoning Valley Race Course', 'abrev': 'MVR'}, {'name': 'Meadowlands', 'abrev': 'MED'}, {'name': 'Mountaineer Casino Racetrack & Resort', 'abrev': 'MNR'}, {'name': 'Parx Racing', 'abrev': 'PRX'}, {'name': 'Penn National', 'abrev': 'PEN'}, {'name': 'Presque Isle Downs', 'abrev': 'PID'}, {'name': 'Remington Park', 'abrev': 'RP'}, {'name': 'Santa Anita Park', 'abrev': 'SA'}, {'name': 'Will Rogers Downs', 'abrev': 'WRD'}, {'name': 'Woodbine', 'abrev': 'WO'}, {'name': 'Zia Park', 'abrev': 'ZIA'}]\n"
     ]
    }
   ],
   "source": [
    "import json\n",
    " \n",
    "# Opening JSON file\n",
    "with open('track_data.json') as json_file:\n",
    "    data = json.load(json_file)\n",
    " \n",
    "    # Print the type of data variable\n",
    "    print(\"Type:\", type(data))\n",
    "    print(\"\\nTracks:\", data['tracks'])\n",
    "    \n",
    "     for i in data['tracks']:\n",
    "        print(\"Name:\", i['name'])\n",
    "        print(\"Website:\", i['abrev'])\n",
    "        print()\n"
   ]
  },
  {
   "cell_type": "code",
   "execution_count": null,
   "id": "6cd9d943",
   "metadata": {},
   "outputs": [],
   "source": []
  }
 ],
 "metadata": {
  "kernelspec": {
   "display_name": "Python 3 (ipykernel)",
   "language": "python",
   "name": "python3"
  },
  "language_info": {
   "codemirror_mode": {
    "name": "ipython",
    "version": 3
   },
   "file_extension": ".py",
   "mimetype": "text/x-python",
   "name": "python",
   "nbconvert_exporter": "python",
   "pygments_lexer": "ipython3",
   "version": "3.9.7"
  }
 },
 "nbformat": 4,
 "nbformat_minor": 5
}
