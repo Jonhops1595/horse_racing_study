{
 "cells": [
  {
   "cell_type": "code",
   "execution_count": 26,
   "id": "74a66649",
   "metadata": {},
   "outputs": [],
   "source": [
    "def download_pdf(lnk):\n",
    "    \n",
    "    from selenium import webdriver\n",
    "    from time import sleep\n",
    "    \n",
    "    options = webdriver.ChromeOptions()\n",
    "    \n",
    "    download_folder = \"C:\\\\Users\\\\NightKnight\\\\Downloads\\\\Equibase\"    \n",
    "    \n",
    "    profile = {\"plugins.plugins_list\": [{\"enabled\": False,\n",
    "                                         \"name\": \"Chrome PDF Viewer\"}],\n",
    "               \"download.default_directory\": download_folder,\n",
    "               \"download.extensions_to_open\": \"\",\n",
    "               \"plugins.always_open_pdf_externally\": True}\n",
    "    \n",
    "    options.add_experimental_option(\"prefs\", profile)\n",
    "    \n",
    "    print(\"Downloading file from link: {}\".format(lnk))\n",
    "        \n",
    "    driver = webdriver.Chrome(chrome_options = options)\n",
    "    driver.get(lnk)\n",
    "    \n",
    "    filename = lnk.split(\"/\")[4].split(\".cfm\")[0]\n",
    "    print(\"File: {}\".format(filename))\n",
    "    \n",
    "    print(\"Status: Download Complete.\")\n",
    "    print(\"Folder: {}\".format(download_folder))\n",
    "    \n",
    "    driver.close()\n",
    "   "
   ]
  },
  {
   "cell_type": "code",
   "execution_count": 27,
   "id": "f3c21db4",
   "metadata": {},
   "outputs": [
    {
     "name": "stdout",
     "output_type": "stream",
     "text": [
      "Downloading file from link: https://www.equibase.com/premium/eqbPDFChartPlus.cfm?RACE=A&BorP=P&TID=CNL&CTRY=USA&DT=09/06/2022&DAY=D&STYLE=EQB\n"
     ]
    },
    {
     "name": "stderr",
     "output_type": "stream",
     "text": [
      "C:\\Users\\NightKnight\\AppData\\Local\\Temp\\ipykernel_8160\\1816109550.py:20: DeprecationWarning: use options instead of chrome_options\n",
      "  driver = webdriver.Chrome(chrome_options = options)\n"
     ]
    },
    {
     "name": "stdout",
     "output_type": "stream",
     "text": [
      "File: eqbPDFChartPlus\n",
      "Status: Download Complete.\n",
      "Folder: C:\\Users\\NightKnight\\Downloads\\Equibase\n"
     ]
    }
   ],
   "source": [
    "download_pdf(\"https://www.equibase.com/premium/eqbPDFChartPlus.cfm?RACE=A&BorP=P&TID=CNL&CTRY=USA&DT=09/06/2022&DAY=D&STYLE=EQB\")"
   ]
  },
  {
   "cell_type": "code",
   "execution_count": null,
   "id": "b3437a6e",
   "metadata": {},
   "outputs": [],
   "source": []
  }
 ],
 "metadata": {
  "kernelspec": {
   "display_name": "Python 3 (ipykernel)",
   "language": "python",
   "name": "python3"
  },
  "language_info": {
   "codemirror_mode": {
    "name": "ipython",
    "version": 3
   },
   "file_extension": ".py",
   "mimetype": "text/x-python",
   "name": "python",
   "nbconvert_exporter": "python",
   "pygments_lexer": "ipython3",
   "version": "3.9.12"
  }
 },
 "nbformat": 4,
 "nbformat_minor": 5
}
